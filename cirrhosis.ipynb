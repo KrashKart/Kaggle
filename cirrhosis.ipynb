{
 "cells": [
  {
   "cell_type": "markdown",
   "id": "3668f12f",
   "metadata": {
    "papermill": {
     "duration": 0.009742,
     "end_time": "2023-12-06T04:04:01.097264",
     "exception": false,
     "start_time": "2023-12-06T04:04:01.087522",
     "status": "completed"
    },
    "tags": []
   },
   "source": [
    "# Initial analysis\n",
    "First, load in the data and see the columns and any NaN values"
   ]
  },
  {
   "cell_type": "code",
   "execution_count": 1,
   "id": "0f93df89",
   "metadata": {
    "execution": {
     "iopub.execute_input": "2023-12-06T04:04:01.114200Z",
     "iopub.status.busy": "2023-12-06T04:04:01.113652Z",
     "iopub.status.idle": "2023-12-06T04:04:03.104475Z",
     "shell.execute_reply": "2023-12-06T04:04:03.103047Z"
    },
    "papermill": {
     "duration": 2.004027,
     "end_time": "2023-12-06T04:04:03.108707",
     "exception": false,
     "start_time": "2023-12-06T04:04:01.104680",
     "status": "completed"
    },
    "tags": []
   },
   "outputs": [
    {
     "name": "stdout",
     "output_type": "stream",
     "text": [
      "<class 'pandas.core.frame.DataFrame'>\n",
      "RangeIndex: 7905 entries, 0 to 7904\n",
      "Data columns (total 20 columns):\n",
      " #   Column         Non-Null Count  Dtype  \n",
      "---  ------         --------------  -----  \n",
      " 0   id             7905 non-null   int64  \n",
      " 1   N_Days         7905 non-null   int64  \n",
      " 2   Drug           7905 non-null   object \n",
      " 3   Age            7905 non-null   int64  \n",
      " 4   Sex            7905 non-null   object \n",
      " 5   Ascites        7905 non-null   object \n",
      " 6   Hepatomegaly   7905 non-null   object \n",
      " 7   Spiders        7905 non-null   object \n",
      " 8   Edema          7905 non-null   object \n",
      " 9   Bilirubin      7905 non-null   float64\n",
      " 10  Cholesterol    7905 non-null   float64\n",
      " 11  Albumin        7905 non-null   float64\n",
      " 12  Copper         7905 non-null   float64\n",
      " 13  Alk_Phos       7905 non-null   float64\n",
      " 14  SGOT           7905 non-null   float64\n",
      " 15  Tryglicerides  7905 non-null   float64\n",
      " 16  Platelets      7905 non-null   float64\n",
      " 17  Prothrombin    7905 non-null   float64\n",
      " 18  Stage          7905 non-null   float64\n",
      " 19  Status         7905 non-null   object \n",
      "dtypes: float64(10), int64(3), object(7)\n",
      "memory usage: 1.2+ MB\n"
     ]
    }
   ],
   "source": [
    "import numpy as np\n",
    "import pandas as pd\n",
    "import matplotlib.pyplot as plt\n",
    "import seaborn as sns\n",
    "\n",
    "c_train = pd.read_csv(\"/kaggle/input/playground-series-s3e26/train.csv\")\n",
    "c_train.info()"
   ]
  },
  {
   "cell_type": "code",
   "execution_count": 2,
   "id": "ce811aea",
   "metadata": {
    "execution": {
     "iopub.execute_input": "2023-12-06T04:04:03.127512Z",
     "iopub.status.busy": "2023-12-06T04:04:03.126441Z",
     "iopub.status.idle": "2023-12-06T04:04:03.161842Z",
     "shell.execute_reply": "2023-12-06T04:04:03.160870Z"
    },
    "papermill": {
     "duration": 0.047558,
     "end_time": "2023-12-06T04:04:03.164609",
     "exception": false,
     "start_time": "2023-12-06T04:04:03.117051",
     "status": "completed"
    },
    "tags": []
   },
   "outputs": [
    {
     "data": {
      "text/html": [
       "<div>\n",
       "<style scoped>\n",
       "    .dataframe tbody tr th:only-of-type {\n",
       "        vertical-align: middle;\n",
       "    }\n",
       "\n",
       "    .dataframe tbody tr th {\n",
       "        vertical-align: top;\n",
       "    }\n",
       "\n",
       "    .dataframe thead th {\n",
       "        text-align: right;\n",
       "    }\n",
       "</style>\n",
       "<table border=\"1\" class=\"dataframe\">\n",
       "  <thead>\n",
       "    <tr style=\"text-align: right;\">\n",
       "      <th></th>\n",
       "      <th>id</th>\n",
       "      <th>N_Days</th>\n",
       "      <th>Drug</th>\n",
       "      <th>Age</th>\n",
       "      <th>Sex</th>\n",
       "      <th>Ascites</th>\n",
       "      <th>Hepatomegaly</th>\n",
       "      <th>Spiders</th>\n",
       "      <th>Edema</th>\n",
       "      <th>Bilirubin</th>\n",
       "      <th>Cholesterol</th>\n",
       "      <th>Albumin</th>\n",
       "      <th>Copper</th>\n",
       "      <th>Alk_Phos</th>\n",
       "      <th>SGOT</th>\n",
       "      <th>Tryglicerides</th>\n",
       "      <th>Platelets</th>\n",
       "      <th>Prothrombin</th>\n",
       "      <th>Stage</th>\n",
       "      <th>Status</th>\n",
       "    </tr>\n",
       "  </thead>\n",
       "  <tbody>\n",
       "    <tr>\n",
       "      <th>0</th>\n",
       "      <td>0</td>\n",
       "      <td>999</td>\n",
       "      <td>D-penicillamine</td>\n",
       "      <td>21532</td>\n",
       "      <td>M</td>\n",
       "      <td>N</td>\n",
       "      <td>N</td>\n",
       "      <td>N</td>\n",
       "      <td>N</td>\n",
       "      <td>2.3</td>\n",
       "      <td>316.0</td>\n",
       "      <td>3.35</td>\n",
       "      <td>172.0</td>\n",
       "      <td>1601.0</td>\n",
       "      <td>179.80</td>\n",
       "      <td>63.0</td>\n",
       "      <td>394.0</td>\n",
       "      <td>9.7</td>\n",
       "      <td>3.0</td>\n",
       "      <td>D</td>\n",
       "    </tr>\n",
       "    <tr>\n",
       "      <th>1</th>\n",
       "      <td>1</td>\n",
       "      <td>2574</td>\n",
       "      <td>Placebo</td>\n",
       "      <td>19237</td>\n",
       "      <td>F</td>\n",
       "      <td>N</td>\n",
       "      <td>N</td>\n",
       "      <td>N</td>\n",
       "      <td>N</td>\n",
       "      <td>0.9</td>\n",
       "      <td>364.0</td>\n",
       "      <td>3.54</td>\n",
       "      <td>63.0</td>\n",
       "      <td>1440.0</td>\n",
       "      <td>134.85</td>\n",
       "      <td>88.0</td>\n",
       "      <td>361.0</td>\n",
       "      <td>11.0</td>\n",
       "      <td>3.0</td>\n",
       "      <td>C</td>\n",
       "    </tr>\n",
       "    <tr>\n",
       "      <th>2</th>\n",
       "      <td>2</td>\n",
       "      <td>3428</td>\n",
       "      <td>Placebo</td>\n",
       "      <td>13727</td>\n",
       "      <td>F</td>\n",
       "      <td>N</td>\n",
       "      <td>Y</td>\n",
       "      <td>Y</td>\n",
       "      <td>Y</td>\n",
       "      <td>3.3</td>\n",
       "      <td>299.0</td>\n",
       "      <td>3.55</td>\n",
       "      <td>131.0</td>\n",
       "      <td>1029.0</td>\n",
       "      <td>119.35</td>\n",
       "      <td>50.0</td>\n",
       "      <td>199.0</td>\n",
       "      <td>11.7</td>\n",
       "      <td>4.0</td>\n",
       "      <td>D</td>\n",
       "    </tr>\n",
       "    <tr>\n",
       "      <th>3</th>\n",
       "      <td>3</td>\n",
       "      <td>2576</td>\n",
       "      <td>Placebo</td>\n",
       "      <td>18460</td>\n",
       "      <td>F</td>\n",
       "      <td>N</td>\n",
       "      <td>N</td>\n",
       "      <td>N</td>\n",
       "      <td>N</td>\n",
       "      <td>0.6</td>\n",
       "      <td>256.0</td>\n",
       "      <td>3.50</td>\n",
       "      <td>58.0</td>\n",
       "      <td>1653.0</td>\n",
       "      <td>71.30</td>\n",
       "      <td>96.0</td>\n",
       "      <td>269.0</td>\n",
       "      <td>10.7</td>\n",
       "      <td>3.0</td>\n",
       "      <td>C</td>\n",
       "    </tr>\n",
       "    <tr>\n",
       "      <th>4</th>\n",
       "      <td>4</td>\n",
       "      <td>788</td>\n",
       "      <td>Placebo</td>\n",
       "      <td>16658</td>\n",
       "      <td>F</td>\n",
       "      <td>N</td>\n",
       "      <td>Y</td>\n",
       "      <td>N</td>\n",
       "      <td>N</td>\n",
       "      <td>1.1</td>\n",
       "      <td>346.0</td>\n",
       "      <td>3.65</td>\n",
       "      <td>63.0</td>\n",
       "      <td>1181.0</td>\n",
       "      <td>125.55</td>\n",
       "      <td>96.0</td>\n",
       "      <td>298.0</td>\n",
       "      <td>10.6</td>\n",
       "      <td>4.0</td>\n",
       "      <td>C</td>\n",
       "    </tr>\n",
       "  </tbody>\n",
       "</table>\n",
       "</div>"
      ],
      "text/plain": [
       "   id  N_Days             Drug    Age Sex Ascites Hepatomegaly Spiders Edema  \\\n",
       "0   0     999  D-penicillamine  21532   M       N            N       N     N   \n",
       "1   1    2574          Placebo  19237   F       N            N       N     N   \n",
       "2   2    3428          Placebo  13727   F       N            Y       Y     Y   \n",
       "3   3    2576          Placebo  18460   F       N            N       N     N   \n",
       "4   4     788          Placebo  16658   F       N            Y       N     N   \n",
       "\n",
       "   Bilirubin  Cholesterol  Albumin  Copper  Alk_Phos    SGOT  Tryglicerides  \\\n",
       "0        2.3        316.0     3.35   172.0    1601.0  179.80           63.0   \n",
       "1        0.9        364.0     3.54    63.0    1440.0  134.85           88.0   \n",
       "2        3.3        299.0     3.55   131.0    1029.0  119.35           50.0   \n",
       "3        0.6        256.0     3.50    58.0    1653.0   71.30           96.0   \n",
       "4        1.1        346.0     3.65    63.0    1181.0  125.55           96.0   \n",
       "\n",
       "   Platelets  Prothrombin  Stage Status  \n",
       "0      394.0          9.7    3.0      D  \n",
       "1      361.0         11.0    3.0      C  \n",
       "2      199.0         11.7    4.0      D  \n",
       "3      269.0         10.7    3.0      C  \n",
       "4      298.0         10.6    4.0      C  "
      ]
     },
     "execution_count": 2,
     "metadata": {},
     "output_type": "execute_result"
    }
   ],
   "source": [
    "c_train.head()"
   ]
  },
  {
   "cell_type": "code",
   "execution_count": 3,
   "id": "6e0b362b",
   "metadata": {
    "execution": {
     "iopub.execute_input": "2023-12-06T04:04:03.184293Z",
     "iopub.status.busy": "2023-12-06T04:04:03.183513Z",
     "iopub.status.idle": "2023-12-06T04:04:03.199856Z",
     "shell.execute_reply": "2023-12-06T04:04:03.198827Z"
    },
    "papermill": {
     "duration": 0.028834,
     "end_time": "2023-12-06T04:04:03.202534",
     "exception": false,
     "start_time": "2023-12-06T04:04:03.173700",
     "status": "completed"
    },
    "tags": []
   },
   "outputs": [
    {
     "data": {
      "text/plain": [
       "Status\n",
       "C     4965\n",
       "D     2665\n",
       "CL     275\n",
       "Name: count, dtype: int64"
      ]
     },
     "execution_count": 3,
     "metadata": {},
     "output_type": "execute_result"
    }
   ],
   "source": [
    "# copy out Y\n",
    "c_train_y = c_train[\"Status\"]\n",
    "c_train = c_train.drop(columns=\"Status\")\n",
    "\n",
    "c_train_y.value_counts()"
   ]
  },
  {
   "cell_type": "code",
   "execution_count": 4,
   "id": "fdb61e49",
   "metadata": {
    "execution": {
     "iopub.execute_input": "2023-12-06T04:04:03.221096Z",
     "iopub.status.busy": "2023-12-06T04:04:03.220331Z",
     "iopub.status.idle": "2023-12-06T04:04:03.235838Z",
     "shell.execute_reply": "2023-12-06T04:04:03.234829Z"
    },
    "papermill": {
     "duration": 0.028763,
     "end_time": "2023-12-06T04:04:03.239486",
     "exception": false,
     "start_time": "2023-12-06T04:04:03.210723",
     "status": "completed"
    },
    "tags": []
   },
   "outputs": [
    {
     "data": {
      "text/plain": [
       "id               False\n",
       "N_Days           False\n",
       "Drug             False\n",
       "Age              False\n",
       "Sex              False\n",
       "Ascites          False\n",
       "Hepatomegaly     False\n",
       "Spiders          False\n",
       "Edema            False\n",
       "Bilirubin        False\n",
       "Cholesterol      False\n",
       "Albumin          False\n",
       "Copper           False\n",
       "Alk_Phos         False\n",
       "SGOT             False\n",
       "Tryglicerides    False\n",
       "Platelets        False\n",
       "Prothrombin      False\n",
       "Stage            False\n",
       "dtype: bool"
      ]
     },
     "execution_count": 4,
     "metadata": {},
     "output_type": "execute_result"
    }
   ],
   "source": [
    "c_train.isna().any()"
   ]
  },
  {
   "cell_type": "markdown",
   "id": "6a54da94",
   "metadata": {
    "papermill": {
     "duration": 0.008602,
     "end_time": "2023-12-06T04:04:03.257692",
     "exception": false,
     "start_time": "2023-12-06T04:04:03.249090",
     "status": "completed"
    },
    "tags": []
   },
   "source": [
    "Luckily, NaN processing will not be needed."
   ]
  },
  {
   "cell_type": "markdown",
   "id": "74f1b1e0",
   "metadata": {
    "papermill": {
     "duration": 0.008414,
     "end_time": "2023-12-06T04:04:03.275282",
     "exception": false,
     "start_time": "2023-12-06T04:04:03.266868",
     "status": "completed"
    },
    "tags": []
   },
   "source": [
    "# Data Processing\n",
    "This is an interesting one-vs-all classification problem. To process this, we will:\n",
    "1. One-hot encode the \"Status\" column\n",
    "2. Remap the other categorical columns to numbers\n",
    "3. Conduct analysis on the distribution of the continuous variables to see if we need to scale or normalise"
   ]
  },
  {
   "cell_type": "code",
   "execution_count": 5,
   "id": "ebb66ae9",
   "metadata": {
    "execution": {
     "iopub.execute_input": "2023-12-06T04:04:03.293956Z",
     "iopub.status.busy": "2023-12-06T04:04:03.293505Z",
     "iopub.status.idle": "2023-12-06T04:04:05.748470Z",
     "shell.execute_reply": "2023-12-06T04:04:05.747232Z"
    },
    "papermill": {
     "duration": 2.467986,
     "end_time": "2023-12-06T04:04:05.751537",
     "exception": false,
     "start_time": "2023-12-06T04:04:03.283551",
     "status": "completed"
    },
    "tags": []
   },
   "outputs": [
    {
     "data": {
      "image/png": "[encoded data removed]",
      "text/plain": [
       "<Figure size 2000x1000 with 12 Axes>"
      ]
     },
     "metadata": {},
     "output_type": "display_data"
    }
   ],
   "source": [
    "conts = [\"N_Days\", \"Age\", \"Bilirubin\", \"Cholesterol\", \"Albumin\", \"Copper\", \"Alk_Phos\", \"SGOT\", \"Tryglicerides\", \"Platelets\", \"Prothrombin\"]\n",
    "\n",
    "c_train[conts].hist(figsize=(20, 10))\n",
    "plt.show()"
   ]
  },
  {
   "cell_type": "markdown",
   "id": "2a1abb44",
   "metadata": {
    "papermill": {
     "duration": 0.009297,
     "end_time": "2023-12-06T04:04:05.770627",
     "exception": false,
     "start_time": "2023-12-06T04:04:05.761330",
     "status": "completed"
    },
    "tags": []
   },
   "source": [
    "Almost all the columns have skewed distributions of some kind, thus we shall use StandardScaler to normalise the columns."
   ]
  },
  {
   "cell_type": "code",
   "execution_count": 6,
   "id": "40d1cff6",
   "metadata": {
    "execution": {
     "iopub.execute_input": "2023-12-06T04:04:05.792711Z",
     "iopub.status.busy": "2023-12-06T04:04:05.791439Z",
     "iopub.status.idle": "2023-12-06T04:04:05.813117Z",
     "shell.execute_reply": "2023-12-06T04:04:05.811638Z"
    },
    "papermill": {
     "duration": 0.036026,
     "end_time": "2023-12-06T04:04:05.816306",
     "exception": false,
     "start_time": "2023-12-06T04:04:05.780280",
     "status": "completed"
    },
    "tags": []
   },
   "outputs": [
    {
     "name": "stdout",
     "output_type": "stream",
     "text": [
      "Drug\n",
      "Placebo            4010\n",
      "D-penicillamine    3895\n",
      "Name: count, dtype: int64\n",
      "------------------------------\n",
      "Sex\n",
      "F    7336\n",
      "M     569\n",
      "Name: count, dtype: int64\n",
      "------------------------------\n",
      "Ascites\n",
      "N    7525\n",
      "Y     380\n",
      "Name: count, dtype: int64\n",
      "------------------------------\n",
      "Hepatomegaly\n",
      "Y    4042\n",
      "N    3863\n",
      "Name: count, dtype: int64\n",
      "------------------------------\n",
      "Spiders\n",
      "N    5966\n",
      "Y    1939\n",
      "Name: count, dtype: int64\n",
      "------------------------------\n",
      "Edema\n",
      "N    7161\n",
      "S     399\n",
      "Y     345\n",
      "Name: count, dtype: int64\n",
      "------------------------------\n",
      "Stage\n",
      "3.0    3153\n",
      "4.0    2703\n",
      "2.0    1652\n",
      "1.0     397\n",
      "Name: count, dtype: int64\n",
      "------------------------------\n"
     ]
    }
   ],
   "source": [
    "cats = [\"Drug\", \"Sex\", \"Ascites\", \"Hepatomegaly\", \"Spiders\", \"Edema\", \"Stage\"]\n",
    "for cat in cats:\n",
    "    print(c_train[cat].value_counts())\n",
    "    print(\"-\"*30)"
   ]
  },
  {
   "cell_type": "markdown",
   "id": "858476ff",
   "metadata": {
    "papermill": {
     "duration": 0.009536,
     "end_time": "2023-12-06T04:04:05.835569",
     "exception": false,
     "start_time": "2023-12-06T04:04:05.826033",
     "status": "completed"
    },
    "tags": []
   },
   "source": [
    "Notice that, besides the \"Drug\" and \"Hepatomegaly\" columns, almost all the columns have a predominant category. We shall not touch this."
   ]
  },
  {
   "cell_type": "code",
   "execution_count": 7,
   "id": "a6ccd5df",
   "metadata": {
    "execution": {
     "iopub.execute_input": "2023-12-06T04:04:05.857930Z",
     "iopub.status.busy": "2023-12-06T04:04:05.856587Z",
     "iopub.status.idle": "2023-12-06T04:04:06.102164Z",
     "shell.execute_reply": "2023-12-06T04:04:06.100861Z"
    },
    "papermill": {
     "duration": 0.259554,
     "end_time": "2023-12-06T04:04:06.104939",
     "exception": false,
     "start_time": "2023-12-06T04:04:05.845385",
     "status": "completed"
    },
    "tags": []
   },
   "outputs": [
    {
     "name": "stdout",
     "output_type": "stream",
     "text": [
      "     N_Days  Drug       Age  Sex  Ascites  Hepatomegaly  Spiders  Edema  \\\n",
      "0 -0.942430     1  0.858448    0        0             0        0      0   \n",
      "1  0.497025     0  0.234760    1        0             0        0      0   \n",
      "2  1.277529     0 -1.262634    1        0             1        1      2   \n",
      "3  0.498852     0  0.023603    1        0             0        0      0   \n",
      "4 -1.135271     0 -0.466107    1        0             1        0      0   \n",
      "\n",
      "   Bilirubin  Cholesterol   Albumin    Copper  Alk_Phos      SGOT  \\\n",
      "0  -0.077237    -0.176908 -0.572940  1.160785 -0.113334  1.336304   \n",
      "1  -0.444429     0.068784 -0.024043 -0.275420 -0.197909  0.414968   \n",
      "2   0.185043    -0.263923  0.004846  0.620561 -0.413812  0.097266   \n",
      "3  -0.523113    -0.484022 -0.139601 -0.341301 -0.086017 -0.887610   \n",
      "4  -0.391973    -0.023351  0.293739 -0.275420 -0.333965  0.224347   \n",
      "\n",
      "   Tryglicerides  Platelets  Prothrombin  Stage  \n",
      "0      -0.996442   1.472341    -1.189049      3  \n",
      "1      -0.520497   1.095026     0.474024      3  \n",
      "2      -1.243933  -0.757248     1.369525      4  \n",
      "3      -0.368194   0.043117     0.090238      3  \n",
      "4      -0.368194   0.374697    -0.037691      4  \n"
     ]
    }
   ],
   "source": [
    "from sklearn.preprocessing import StandardScaler\n",
    "\n",
    "def preprocess(c, cats, conts):\n",
    "    # remap cats\n",
    "    c = c.replace({\"Drug\": {\"Placebo\": 0, \"D-penicillamine\": 1}, \n",
    "                    \"Sex\": {\"M\": 0, \"F\": 1},\n",
    "                    \"Edema\": {\"N\": 0, \"S\": 1, \"Y\": 2},\n",
    "                    \"Ascites\": {\"N\": 0, \"Y\": 1},\n",
    "                    \"Hepatomegaly\": {\"N\": 0, \"Y\": 1},\n",
    "                    \"Spiders\": {\"N\": 0, \"Y\": 1}})\n",
    "    \n",
    "    # scale conts\n",
    "    s = StandardScaler()\n",
    "    c[conts] = s.fit_transform(c[conts])\n",
    "    c[\"Stage\"] = c[\"Stage\"].astype(int)\n",
    "    \n",
    "    # return id and c\n",
    "    ids = c[\"id\"]\n",
    "    c = c.drop(columns=\"id\")\n",
    "    \n",
    "    print(c.head())\n",
    "    \n",
    "    return ids, c.to_numpy()\n",
    "_, c_train = preprocess(c_train, cats, conts)"
   ]
  },
  {
   "cell_type": "code",
   "execution_count": 8,
   "id": "c0b6d4e1",
   "metadata": {
    "execution": {
     "iopub.execute_input": "2023-12-06T04:04:06.127874Z",
     "iopub.status.busy": "2023-12-06T04:04:06.127434Z",
     "iopub.status.idle": "2023-12-06T04:04:06.136704Z",
     "shell.execute_reply": "2023-12-06T04:04:06.135444Z"
    },
    "papermill": {
     "duration": 0.024039,
     "end_time": "2023-12-06T04:04:06.139182",
     "exception": false,
     "start_time": "2023-12-06T04:04:06.115143",
     "status": "completed"
    },
    "tags": []
   },
   "outputs": [
    {
     "name": "stdout",
     "output_type": "stream",
     "text": [
      "[[0 0 1]\n",
      " [1 0 0]\n",
      " [0 0 1]\n",
      " ...\n",
      " [0 0 1]\n",
      " [0 0 1]\n",
      " [1 0 0]]\n"
     ]
    }
   ],
   "source": [
    "# lastly, split y\n",
    "y = pd.get_dummies(c_train_y).astype(int).to_numpy()\n",
    "print(y)"
   ]
  },
  {
   "cell_type": "markdown",
   "id": "78add937",
   "metadata": {
    "papermill": {
     "duration": 0.009552,
     "end_time": "2023-12-06T04:04:06.158658",
     "exception": false,
     "start_time": "2023-12-06T04:04:06.149106",
     "status": "completed"
    },
    "tags": []
   },
   "source": [
    "# Model Selection\n",
    "Now, we run "
   ]
  },
  {
   "cell_type": "code",
   "execution_count": 9,
   "id": "ec4713ff",
   "metadata": {
    "execution": {
     "iopub.execute_input": "2023-12-06T04:04:06.180725Z",
     "iopub.status.busy": "2023-12-06T04:04:06.180065Z",
     "iopub.status.idle": "2023-12-06T04:04:07.086260Z",
     "shell.execute_reply": "2023-12-06T04:04:07.085323Z"
    },
    "papermill": {
     "duration": 0.92029,
     "end_time": "2023-12-06T04:04:07.088935",
     "exception": false,
     "start_time": "2023-12-06T04:04:06.168645",
     "status": "completed"
    },
    "tags": []
   },
   "outputs": [],
   "source": [
    "from sklearn.multiclass import OneVsRestClassifier as o\n",
    "from sklearn.linear_model import LogisticRegression as LR\n",
    "from xgboost import XGBClassifier as XGBC\n",
    "from catboost import CatBoostClassifier as CBC\n",
    "from sklearn.ensemble import VotingClassifier\n",
    "from sklearn.model_selection import cross_val_score, GridSearchCV as gs\n",
    "\n",
    "on = \"on\"\n",
    "off= \"off\"\n",
    "\n",
    "lr = o(LR(tol=1e-6, C=1.5))\n",
    "xgb = o(XGBC(n_estimators=400, eta=0.03, subsample=0.35, booster=\"gbtree\"))\n",
    "cbc = o(CBC(iterations=400, eta=0.03, subsample=0.35, verbose=False, loss_function=\"Logloss\"))\n",
    "vote = o(VotingClassifier(estimators=[(\"lr\", lr), (\"xgb\", xgb), (\"cbc\", cbc)], voting=\"soft\"))\n",
    "\n",
    "models = {\"lr\": (on, lr), \"xgb\": (on, xgb), \"cbc\": (on, cbc), \"vote\": (on, vote)}\n",
    "\n",
    "# for name in models.keys():\n",
    "#     if models[name][0] == on:\n",
    "#         print(name)\n",
    "#         scores = cross_val_score(models[name][1], c_train, y, scoring=\"neg_log_loss\")\n",
    "#         print(scores)\n",
    "#         print(scores.mean())\n",
    "#         print(\"-\" * 30)"
   ]
  },
  {
   "cell_type": "markdown",
   "id": "fa15a0c1",
   "metadata": {
    "papermill": {
     "duration": 0.010134,
     "end_time": "2023-12-06T04:04:07.109054",
     "exception": false,
     "start_time": "2023-12-06T04:04:07.098920",
     "status": "completed"
    },
    "tags": []
   },
   "source": [
    "Let us focus on catboost for the time being"
   ]
  },
  {
   "cell_type": "code",
   "execution_count": 10,
   "id": "18805858",
   "metadata": {
    "execution": {
     "iopub.execute_input": "2023-12-06T04:04:07.131037Z",
     "iopub.status.busy": "2023-12-06T04:04:07.130593Z",
     "iopub.status.idle": "2023-12-06T04:04:12.825365Z",
     "shell.execute_reply": "2023-12-06T04:04:12.824178Z"
    },
    "papermill": {
     "duration": 5.709586,
     "end_time": "2023-12-06T04:04:12.828488",
     "exception": false,
     "start_time": "2023-12-06T04:04:07.118902",
     "status": "completed"
    },
    "tags": []
   },
   "outputs": [
    {
     "data": {
      "text/html": [
       "<style>#sk-container-id-1 {color: black;background-color: white;}#sk-container-id-1 pre{padding: 0;}#sk-container-id-1 div.sk-toggleable {background-color: white;}#sk-container-id-1 label.sk-toggleable__label {cursor: pointer;display: block;width: 100%;margin-bottom: 0;padding: 0.3em;box-sizing: border-box;text-align: center;}#sk-container-id-1 label.sk-toggleable__label-arrow:before {content: \"▸\";float: left;margin-right: 0.25em;color: #696969;}#sk-container-id-1 label.sk-toggleable__label-arrow:hover:before {color: black;}#sk-container-id-1 div.sk-estimator:hover label.sk-toggleable__label-arrow:before {color: black;}#sk-container-id-1 div.sk-toggleable__content {max-height: 0;max-width: 0;overflow: hidden;text-align: left;background-color: #f0f8ff;}#sk-container-id-1 div.sk-toggleable__content pre {margin: 0.2em;color: black;border-radius: 0.25em;background-color: #f0f8ff;}#sk-container-id-1 input.sk-toggleable__control:checked~div.sk-toggleable__content {max-height: 200px;max-width: 100%;overflow: auto;}#sk-container-id-1 input.sk-toggleable__control:checked~label.sk-toggleable__label-arrow:before {content: \"▾\";}#sk-container-id-1 div.sk-estimator input.sk-toggleable__control:checked~label.sk-toggleable__label {background-color: #d4ebff;}#sk-container-id-1 div.sk-label input.sk-toggleable__control:checked~label.sk-toggleable__label {background-color: #d4ebff;}#sk-container-id-1 input.sk-hidden--visually {border: 0;clip: rect(1px 1px 1px 1px);clip: rect(1px, 1px, 1px, 1px);height: 1px;margin: -1px;overflow: hidden;padding: 0;position: absolute;width: 1px;}#sk-container-id-1 div.sk-estimator {font-family: monospace;background-color: #f0f8ff;border: 1px dotted black;border-radius: 0.25em;box-sizing: border-box;margin-bottom: 0.5em;}#sk-container-id-1 div.sk-estimator:hover {background-color: #d4ebff;}#sk-container-id-1 div.sk-parallel-item::after {content: \"\";width: 100%;border-bottom: 1px solid gray;flex-grow: 1;}#sk-container-id-1 div.sk-label:hover label.sk-toggleable__label {background-color: #d4ebff;}#sk-container-id-1 div.sk-serial::before {content: \"\";position: absolute;border-left: 1px solid gray;box-sizing: border-box;top: 0;bottom: 0;left: 50%;z-index: 0;}#sk-container-id-1 div.sk-serial {display: flex;flex-direction: column;align-items: center;background-color: white;padding-right: 0.2em;padding-left: 0.2em;position: relative;}#sk-container-id-1 div.sk-item {position: relative;z-index: 1;}#sk-container-id-1 div.sk-parallel {display: flex;align-items: stretch;justify-content: center;background-color: white;position: relative;}#sk-container-id-1 div.sk-item::before, #sk-container-id-1 div.sk-parallel-item::before {content: \"\";position: absolute;border-left: 1px solid gray;box-sizing: border-box;top: 0;bottom: 0;left: 50%;z-index: -1;}#sk-container-id-1 div.sk-parallel-item {display: flex;flex-direction: column;z-index: 1;position: relative;background-color: white;}#sk-container-id-1 div.sk-parallel-item:first-child::after {align-self: flex-end;width: 50%;}#sk-container-id-1 div.sk-parallel-item:last-child::after {align-self: flex-start;width: 50%;}#sk-container-id-1 div.sk-parallel-item:only-child::after {width: 0;}#sk-container-id-1 div.sk-dashed-wrapped {border: 1px dashed gray;margin: 0 0.4em 0.5em 0.4em;box-sizing: border-box;padding-bottom: 0.4em;background-color: white;}#sk-container-id-1 div.sk-label label {font-family: monospace;font-weight: bold;display: inline-block;line-height: 1.2em;}#sk-container-id-1 div.sk-label-container {text-align: center;}#sk-container-id-1 div.sk-container {/* jupyter's `normalize.less` sets `[hidden] { display: none; }` but bootstrap.min.css set `[hidden] { display: none !important; }` so we also need the `!important` here to be able to override the default hidden behavior on the sphinx rendered scikit-learn.org. See: https://github.com/scikit-learn/scikit-learn/issues/21755 */display: inline-block !important;position: relative;}#sk-container-id-1 div.sk-text-repr-fallback {display: none;}</style><div id=\"sk-container-id-1\" class=\"sk-top-container\"><div class=\"sk-text-repr-fallback\"><pre>OneVsRestClassifier(estimator=&lt;catboost.core.CatBoostClassifier object at 0x7b739e3cf4f0&gt;)</pre><b>In a Jupyter environment, please rerun this cell to show the HTML representation or trust the notebook. <br />On GitHub, the HTML representation is unable to render, please try loading this page with nbviewer.org.</b></div><div class=\"sk-container\" hidden><div class=\"sk-item sk-dashed-wrapped\"><div class=\"sk-label-container\"><div class=\"sk-label sk-toggleable\"><input class=\"sk-toggleable__control sk-hidden--visually\" id=\"sk-estimator-id-1\" type=\"checkbox\" ><label for=\"sk-estimator-id-1\" class=\"sk-toggleable__label sk-toggleable__label-arrow\">OneVsRestClassifier</label><div class=\"sk-toggleable__content\"><pre>OneVsRestClassifier(estimator=&lt;catboost.core.CatBoostClassifier object at 0x7b739e3cf4f0&gt;)</pre></div></div></div><div class=\"sk-parallel\"><div class=\"sk-parallel-item\"><div class=\"sk-item\"><div class=\"sk-label-container\"><div class=\"sk-label sk-toggleable\"><input class=\"sk-toggleable__control sk-hidden--visually\" id=\"sk-estimator-id-2\" type=\"checkbox\" ><label for=\"sk-estimator-id-2\" class=\"sk-toggleable__label sk-toggleable__label-arrow\">estimator: CatBoostClassifier</label><div class=\"sk-toggleable__content\"><pre>&lt;catboost.core.CatBoostClassifier object at 0x7b739e3cf4f0&gt;</pre></div></div></div><div class=\"sk-serial\"><div class=\"sk-item\"><div class=\"sk-estimator sk-toggleable\"><input class=\"sk-toggleable__control sk-hidden--visually\" id=\"sk-estimator-id-3\" type=\"checkbox\" ><label for=\"sk-estimator-id-3\" class=\"sk-toggleable__label sk-toggleable__label-arrow\">CatBoostClassifier</label><div class=\"sk-toggleable__content\"><pre>&lt;catboost.core.CatBoostClassifier object at 0x7b739e3cf4f0&gt;</pre></div></div></div></div></div></div></div></div></div></div>"
      ],
      "text/plain": [
       "OneVsRestClassifier(estimator=<catboost.core.CatBoostClassifier object at 0x7b739e3cf4f0>)"
      ]
     },
     "execution_count": 10,
     "metadata": {},
     "output_type": "execute_result"
    }
   ],
   "source": [
    "cbc.fit(c_train, y)"
   ]
  },
  {
   "cell_type": "markdown",
   "id": "56f2aa61",
   "metadata": {
    "papermill": {
     "duration": 0.010026,
     "end_time": "2023-12-06T04:04:12.850890",
     "exception": false,
     "start_time": "2023-12-06T04:04:12.840864",
     "status": "completed"
    },
    "tags": []
   },
   "source": [
    "# Prediction\n",
    "Now we load in the test data, preprocess it, and predict"
   ]
  },
  {
   "cell_type": "code",
   "execution_count": 11,
   "id": "1ebcdf32",
   "metadata": {
    "execution": {
     "iopub.execute_input": "2023-12-06T04:04:12.875840Z",
     "iopub.status.busy": "2023-12-06T04:04:12.875380Z",
     "iopub.status.idle": "2023-12-06T04:04:12.957134Z",
     "shell.execute_reply": "2023-12-06T04:04:12.955788Z"
    },
    "papermill": {
     "duration": 0.098299,
     "end_time": "2023-12-06T04:04:12.960017",
     "exception": false,
     "start_time": "2023-12-06T04:04:12.861718",
     "status": "completed"
    },
    "tags": []
   },
   "outputs": [
    {
     "name": "stdout",
     "output_type": "stream",
     "text": [
      "     N_Days  Drug       Age  Sex  Ascites  Hepatomegaly  Spiders  Edema  \\\n",
      "0  1.656608     1  0.342186    1        0             1        0      0   \n",
      "1  0.395038     1 -0.983033    1        0             0        0      0   \n",
      "2 -1.829045     0 -1.492582    1        0             1        0      2   \n",
      "3  0.268052     1  0.561521    1        0             0        0      0   \n",
      "4 -0.389878     1  0.950520    1        0             1        0      0   \n",
      "\n",
      "   Bilirubin  Cholesterol   Albumin    Copper  Alk_Phos      SGOT  \\\n",
      "0  -0.363546     0.965540 -0.473636 -0.254101 -0.090552  0.782524   \n",
      "1  -0.389506     1.534346  1.921728  0.119925 -0.286401  0.782524   \n",
      "2  -0.155863    -1.005321 -1.629046 -0.499153 -0.439359 -0.895372   \n",
      "3  -0.519308    -0.296809  0.879041 -0.576538 -0.649677  0.244331   \n",
      "4  -0.311625    -0.376641 -1.600866  0.468156 -0.362363  0.233097   \n",
      "\n",
      "   Tryglicerides  Platelets  Prothrombin  Stage  \n",
      "0      -0.480744   1.895231    -0.041463      2  \n",
      "1       0.755049  -0.422762    -0.798430      2  \n",
      "2      -0.271610  -0.582624     2.986409      4  \n",
      "3      -1.127159   0.068241    -0.041463      2  \n",
      "4       0.203695  -0.491274    -1.050753      1  \n"
     ]
    }
   ],
   "source": [
    "c_test = pd.read_csv(\"/kaggle/input/playground-series-s3e26/test.csv\")\n",
    "\n",
    "ids, c_test = preprocess(c_test, cats, conts)"
   ]
  },
  {
   "cell_type": "code",
   "execution_count": 12,
   "id": "e1367e76",
   "metadata": {
    "execution": {
     "iopub.execute_input": "2023-12-06T04:04:12.983764Z",
     "iopub.status.busy": "2023-12-06T04:04:12.983280Z",
     "iopub.status.idle": "2023-12-06T04:04:13.006808Z",
     "shell.execute_reply": "2023-12-06T04:04:13.005834Z"
    },
    "papermill": {
     "duration": 0.038461,
     "end_time": "2023-12-06T04:04:13.009603",
     "exception": false,
     "start_time": "2023-12-06T04:04:12.971142",
     "status": "completed"
    },
    "tags": []
   },
   "outputs": [
    {
     "data": {
      "text/plain": [
       "(5271, 3)"
      ]
     },
     "execution_count": 12,
     "metadata": {},
     "output_type": "execute_result"
    }
   ],
   "source": [
    "res = cbc.predict_proba(c_test)\n",
    "res.shape"
   ]
  },
  {
   "cell_type": "code",
   "execution_count": 13,
   "id": "7929f1ae",
   "metadata": {
    "execution": {
     "iopub.execute_input": "2023-12-06T04:04:13.032908Z",
     "iopub.status.busy": "2023-12-06T04:04:13.032470Z",
     "iopub.status.idle": "2023-12-06T04:04:13.051059Z",
     "shell.execute_reply": "2023-12-06T04:04:13.049566Z"
    },
    "papermill": {
     "duration": 0.034117,
     "end_time": "2023-12-06T04:04:13.054384",
     "exception": false,
     "start_time": "2023-12-06T04:04:13.020267",
     "status": "completed"
    },
    "tags": []
   },
   "outputs": [
    {
     "data": {
      "text/html": [
       "<div>\n",
       "<style scoped>\n",
       "    .dataframe tbody tr th:only-of-type {\n",
       "        vertical-align: middle;\n",
       "    }\n",
       "\n",
       "    .dataframe tbody tr th {\n",
       "        vertical-align: top;\n",
       "    }\n",
       "\n",
       "    .dataframe thead th {\n",
       "        text-align: right;\n",
       "    }\n",
       "</style>\n",
       "<table border=\"1\" class=\"dataframe\">\n",
       "  <thead>\n",
       "    <tr style=\"text-align: right;\">\n",
       "      <th></th>\n",
       "      <th>Status_C</th>\n",
       "      <th>Status_CL</th>\n",
       "      <th>Status_D</th>\n",
       "    </tr>\n",
       "    <tr>\n",
       "      <th>id</th>\n",
       "      <th></th>\n",
       "      <th></th>\n",
       "      <th></th>\n",
       "    </tr>\n",
       "  </thead>\n",
       "  <tbody>\n",
       "    <tr>\n",
       "      <th>7905</th>\n",
       "      <td>0.674235</td>\n",
       "      <td>0.014056</td>\n",
       "      <td>0.278376</td>\n",
       "    </tr>\n",
       "    <tr>\n",
       "      <th>7906</th>\n",
       "      <td>0.758126</td>\n",
       "      <td>0.118408</td>\n",
       "      <td>0.100371</td>\n",
       "    </tr>\n",
       "    <tr>\n",
       "      <th>7907</th>\n",
       "      <td>0.035652</td>\n",
       "      <td>0.009198</td>\n",
       "      <td>0.924227</td>\n",
       "    </tr>\n",
       "    <tr>\n",
       "      <th>7908</th>\n",
       "      <td>0.938840</td>\n",
       "      <td>0.003890</td>\n",
       "      <td>0.054457</td>\n",
       "    </tr>\n",
       "    <tr>\n",
       "      <th>7909</th>\n",
       "      <td>0.797500</td>\n",
       "      <td>0.030896</td>\n",
       "      <td>0.129785</td>\n",
       "    </tr>\n",
       "  </tbody>\n",
       "</table>\n",
       "</div>"
      ],
      "text/plain": [
       "      Status_C  Status_CL  Status_D\n",
       "id                                 \n",
       "7905  0.674235   0.014056  0.278376\n",
       "7906  0.758126   0.118408  0.100371\n",
       "7907  0.035652   0.009198  0.924227\n",
       "7908  0.938840   0.003890  0.054457\n",
       "7909  0.797500   0.030896  0.129785"
      ]
     },
     "execution_count": 13,
     "metadata": {},
     "output_type": "execute_result"
    }
   ],
   "source": [
    "final = pd.DataFrame(res)\n",
    "final = pd.concat([ids, final], axis=1)\n",
    "final = final.set_index(\"id\", drop=True)\n",
    "final.columns = [\"Status_C\", \"Status_CL\", \"Status_D\"]\n",
    "final.head()"
   ]
  },
  {
   "cell_type": "code",
   "execution_count": 14,
   "id": "1913ad89",
   "metadata": {
    "execution": {
     "iopub.execute_input": "2023-12-06T04:04:13.079737Z",
     "iopub.status.busy": "2023-12-06T04:04:13.079293Z",
     "iopub.status.idle": "2023-12-06T04:04:13.138568Z",
     "shell.execute_reply": "2023-12-06T04:04:13.137170Z"
    },
    "papermill": {
     "duration": 0.074653,
     "end_time": "2023-12-06T04:04:13.141506",
     "exception": false,
     "start_time": "2023-12-06T04:04:13.066853",
     "status": "completed"
    },
    "tags": []
   },
   "outputs": [],
   "source": [
    "final.to_csv(\"teehee_boys.csv\")"
   ]
  },
  {
   "cell_type": "code",
   "execution_count": null,
   "id": "3be23b3a",
   "metadata": {
    "papermill": {
     "duration": 0.011288,
     "end_time": "2023-12-06T04:04:13.164351",
     "exception": false,
     "start_time": "2023-12-06T04:04:13.153063",
     "status": "completed"
    },
    "tags": []
   },
   "outputs": [],
   "source": []
  }
 ],
 "metadata": {
  "kaggle": {
   "accelerator": "none",
   "dataSources": [
    {
     "databundleVersionId": 7000181,
     "sourceId": 60893,
     "sourceType": "competition"
    }
   ],
   "dockerImageVersionId": 30587,
   "isGpuEnabled": false,
   "isInternetEnabled": true,
   "language": "python",
   "sourceType": "notebook"
  },
  "kernelspec": {
   "display_name": "Python 3",
   "language": "python",
   "name": "python3"
  },
  "language_info": {
   "codemirror_mode": {
    "name": "ipython",
    "version": 3
   },
   "file_extension": ".py",
   "mimetype": "text/x-python",
   "name": "python",
   "nbconvert_exporter": "python",
   "pygments_lexer": "ipython3",
   "version": "3.10.12"
  },
  "papermill": {
   "default_parameters": {},
   "duration": 16.576648,
   "end_time": "2023-12-06T04:04:13.897336",
   "environment_variables": {},
   "exception": null,
   "input_path": "__notebook__.ipynb",
   "output_path": "__notebook__.ipynb",
   "parameters": {},
   "start_time": "2023-12-06T04:03:57.320688",
   "version": "2.4.0"
  }
 },
 "nbformat": 4,
 "nbformat_minor": 5
}
